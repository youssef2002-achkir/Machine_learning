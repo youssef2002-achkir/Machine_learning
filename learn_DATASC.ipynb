{
 "cells": [
  {
   "cell_type": "code",
   "execution_count": null,
   "metadata": {},
   "outputs": [],
   "source": [
    "g = np.random.rand(4,2)\n",
    "print(type(g))\n",
    "print(g)\n",
    "h = np.empty((2,1))\n",
    "print(type(h))\n",
    "print(h)\n",
    "\n"
   ]
  },
  {
   "cell_type": "code",
   "execution_count": null,
   "metadata": {},
   "outputs": [],
   "source": [
    "list_first = np.array([1,2,3,4,5,6,7,8,9,0])\n",
    "print(np.size(list_first))\n",
    "print(np.shape(list_first))\n",
    "print(np.ndim(list_first))\n",
    "print(type(list_first))\n",
    "print(list_first.itemsize)\n",
    "print(list_first.dtype)\n",
    "print(np.reshape(list_first,(2,5)))\n",
    "\n",
    "\n",
    "\n"
   ]
  },
  {
   "cell_type": "code",
   "execution_count": null,
   "metadata": {},
   "outputs": [],
   "source": [
    "npa = np.array([1,2,3,4,5,6])\n",
    "ra = [1,2,3,4,5,6]\n",
    "v = npa[1:3]\n",
    "w = ra[1:3]\n",
    "v[1] = 6000\n",
    "w[1] = 7000\n",
    "print(npa)\n",
    "print(v) \n",
    "print(ra)\n",
    "print(w)\n",
    "\n"
   ]
  },
  {
   "cell_type": "code",
   "execution_count": null,
   "metadata": {},
   "outputs": [],
   "source": [
    "rech = np.arange(12).reshape(3,4)\n",
    "print(rech)\n",
    "rows_on = np.array([True, True, False])\n",
    "print(rech[rows_on , : ])"
   ]
  },
  {
   "cell_type": "code",
   "execution_count": null,
   "metadata": {},
   "outputs": [],
   "source": [
    "coeffs  = np.array([[2, 6], [5, 3]])\n",
    "depvars = np.array([6, -9])\n",
    "solution = np.linalg.solve(coeffs, depvars)\n",
    "print(solution)"
   ]
  },
  {
   "cell_type": "code",
   "execution_count": null,
   "metadata": {},
   "outputs": [],
   "source": [
    "import pandas as pd \n",
    "people_dict = { \"weight\": pd.Series([68, 83, 112],index=[\"alice\", \"bob\", \"charles\"]),   \"birthyear\": pd.Series([1984, 1985, 1992], index=[\"bob\", \"alice\", \"charles\"], name=\"year\"),\n",
    "\"children\": pd.Series([0, 3], index=[\"charles\", \"bob\"]),\n",
    "\"hobby\": pd.Series([\"Biking\", \"Dancing\"], index=[\"alice\", \"bob\"]),}\n",
    "people = pd.DataFrame(people_dict)\n",
    "print(people)\n",
    "print(\"___________________________________________________________\")\n",
    "print(people[people[\"birthyear\"] < 1990])\n",
    "print(\"___________________________________________________________\")\n",
    "print(people.head())\n",
    "print(\"___________________________________________________________\")\n",
    "print(people.tail())\n",
    "print(\"___________________________________________________________\")\n",
    "print(people.info())\n",
    "print(\"___________________________________________________________\")\n",
    "print(people.describe())"
   ]
  },
  {
   "cell_type": "code",
   "execution_count": null,
   "metadata": {},
   "outputs": [],
   "source": [
    "import matplotlib.pyplot as plt\n",
    "plt.plot([1,2,3,4,5,6,7])\n",
    "plt.ylabel('Years')\n",
    "plt.show()"
   ]
  },
  {
   "cell_type": "code",
   "execution_count": null,
   "metadata": {},
   "outputs": [],
   "source": [
    "import matplotlib.pyplot as plt\n",
    "x=[12,34,55,67,90,98,33,21,55,77,88,98,11,2,4,6,7,9,26,78,44,67,88,91,79,84,32]\n",
    "plt.xlabel('sad')\n",
    "plt.ylabel('happy')\n",
    "plt.hist(x,8,facecolor = 'red')\n",
    "plt.show()"
   ]
  },
  {
   "cell_type": "code",
   "execution_count": null,
   "metadata": {},
   "outputs": [],
   "source": [
    "import matplotlib as plt      \n"
   ]
  }
 ],
 "metadata": {
  "interpreter": {
   "hash": "e922dd073470bdcc017ae3abd31d6491d6ed7bf31c1d559806e5511bfea88b81"
  },
  "kernelspec": {
   "display_name": "Python 3.8.3 ('base')",
   "language": "python",
   "name": "python3"
  },
  "language_info": {
   "codemirror_mode": {
    "name": "ipython",
    "version": 3
   },
   "file_extension": ".py",
   "mimetype": "text/x-python",
   "name": "python",
   "nbconvert_exporter": "python",
   "pygments_lexer": "ipython3",
   "version": "3.10.2"
  },
  "orig_nbformat": 4
 },
 "nbformat": 4,
 "nbformat_minor": 2
}
